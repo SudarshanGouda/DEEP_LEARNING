{
 "cells": [
  {
   "cell_type": "code",
   "execution_count": 1,
   "id": "4e876860",
   "metadata": {},
   "outputs": [],
   "source": [
    "from tensorflow.keras.models import load_model"
   ]
  },
  {
   "cell_type": "code",
   "execution_count": 2,
   "id": "8b1b36d9",
   "metadata": {},
   "outputs": [],
   "source": [
    "wine_model = load_model('wine_quality_model.h5')"
   ]
  },
  {
   "cell_type": "code",
   "execution_count": 4,
   "id": "9194261c",
   "metadata": {},
   "outputs": [
    {
     "name": "stdout",
     "output_type": "stream",
     "text": [
      "[[0. 0. 0. 0. 0. 1. 0. 0. 0. 0.]]\n",
      "[5]\n"
     ]
    }
   ],
   "source": [
    "import numpy as np\n",
    "#input for 11 features\n",
    "#Xnew = np.array([[7.9,0.6,0.06,1.6,0.069,15.0,59.0,0.9964,3.3,0.46,9.4]])\n",
    "\n",
    "Xnew = np.array([[8.3,0.655,0.12,2.3,0.083,15.0,113.0,0.9966,3.17,0.66,9.8]])\n",
    "\n",
    "#convert into numpy array\n",
    "Xnew = np.array(Xnew, dtype=np.float64)\n",
    "\n",
    "#making the prediction\n",
    "Ynew = wine_model.predict(Xnew)\n",
    "\n",
    "print(Ynew)\n",
    "\n",
    "max_index_row = np.argmax(Ynew, axis=1)\n",
    "print(max_index_row)"
   ]
  }
 ],
 "metadata": {
  "kernelspec": {
   "display_name": "Python 3 (ipykernel)",
   "language": "python",
   "name": "python3"
  },
  "language_info": {
   "codemirror_mode": {
    "name": "ipython",
    "version": 3
   },
   "file_extension": ".py",
   "mimetype": "text/x-python",
   "name": "python",
   "nbconvert_exporter": "python",
   "pygments_lexer": "ipython3",
   "version": "3.9.7"
  }
 },
 "nbformat": 4,
 "nbformat_minor": 5
}
