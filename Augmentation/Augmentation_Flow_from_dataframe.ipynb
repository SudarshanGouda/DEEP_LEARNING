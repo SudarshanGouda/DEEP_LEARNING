{
 "cells": [
  {
   "cell_type": "markdown",
   "id": "dcd050a6",
   "metadata": {},
   "source": [
    "# Augmentation_Flow_from_dataframe()"
   ]
  },
  {
   "cell_type": "code",
   "execution_count": 14,
   "id": "97be5790",
   "metadata": {},
   "outputs": [],
   "source": [
    "from tensorflow.keras.preprocessing.image import ImageDataGenerator"
   ]
  },
  {
   "cell_type": "code",
   "execution_count": 15,
   "id": "6f88c245",
   "metadata": {},
   "outputs": [],
   "source": [
    "import matplotlib.pyplot as plt\n",
    "import numpy as np"
   ]
  },
  {
   "cell_type": "code",
   "execution_count": 16,
   "id": "df1f787d",
   "metadata": {},
   "outputs": [],
   "source": [
    "dataGen= ImageDataGenerator(rotation_range=40,\n",
    "    width_shift_range=0.2,\n",
    "    height_shift_range=0.2,\n",
    "    brightness_range=[0.2,2.0],\n",
    "    shear_range=0.2,\n",
    "    zoom_range=0.2,\n",
    "    fill_mode='nearest',\n",
    "    horizontal_flip=True)"
   ]
  },
  {
   "cell_type": "markdown",
   "id": "ef51278e",
   "metadata": {},
   "source": [
    "## Importing DataFrame"
   ]
  },
  {
   "cell_type": "code",
   "execution_count": 17,
   "id": "44a4c198",
   "metadata": {},
   "outputs": [],
   "source": [
    "import pandas as pd"
   ]
  },
  {
   "cell_type": "code",
   "execution_count": 18,
   "id": "63464c5d",
   "metadata": {},
   "outputs": [],
   "source": [
    "df=pd.read_csv('D:\\DATA Science\\DEEP LEARNING\\Augmentation\\Vechicles_mixed\\img_mix.csv',dtype=str)"
   ]
  },
  {
   "cell_type": "code",
   "execution_count": 19,
   "id": "58272ed3",
   "metadata": {},
   "outputs": [
    {
     "data": {
      "text/html": [
       "<div>\n",
       "<style scoped>\n",
       "    .dataframe tbody tr th:only-of-type {\n",
       "        vertical-align: middle;\n",
       "    }\n",
       "\n",
       "    .dataframe tbody tr th {\n",
       "        vertical-align: top;\n",
       "    }\n",
       "\n",
       "    .dataframe thead th {\n",
       "        text-align: right;\n",
       "    }\n",
       "</style>\n",
       "<table border=\"1\" class=\"dataframe\">\n",
       "  <thead>\n",
       "    <tr style=\"text-align: right;\">\n",
       "      <th></th>\n",
       "      <th>img_id</th>\n",
       "      <th>target</th>\n",
       "    </tr>\n",
       "  </thead>\n",
       "  <tbody>\n",
       "    <tr>\n",
       "      <th>0</th>\n",
       "      <td>1.JPG</td>\n",
       "      <td>0</td>\n",
       "    </tr>\n",
       "    <tr>\n",
       "      <th>1</th>\n",
       "      <td>2.JPG</td>\n",
       "      <td>0</td>\n",
       "    </tr>\n",
       "    <tr>\n",
       "      <th>2</th>\n",
       "      <td>3.JPG</td>\n",
       "      <td>0</td>\n",
       "    </tr>\n",
       "    <tr>\n",
       "      <th>3</th>\n",
       "      <td>4.JPG</td>\n",
       "      <td>0</td>\n",
       "    </tr>\n",
       "    <tr>\n",
       "      <th>4</th>\n",
       "      <td>5.JPG</td>\n",
       "      <td>1</td>\n",
       "    </tr>\n",
       "    <tr>\n",
       "      <th>5</th>\n",
       "      <td>6.JPG</td>\n",
       "      <td>1</td>\n",
       "    </tr>\n",
       "    <tr>\n",
       "      <th>6</th>\n",
       "      <td>7.JPG</td>\n",
       "      <td>1</td>\n",
       "    </tr>\n",
       "  </tbody>\n",
       "</table>\n",
       "</div>"
      ],
      "text/plain": [
       "  img_id target\n",
       "0  1.JPG      0\n",
       "1  2.JPG      0\n",
       "2  3.JPG      0\n",
       "3  4.JPG      0\n",
       "4  5.JPG      1\n",
       "5  6.JPG      1\n",
       "6  7.JPG      1"
      ]
     },
     "execution_count": 19,
     "metadata": {},
     "output_type": "execute_result"
    }
   ],
   "source": [
    "df"
   ]
  },
  {
   "cell_type": "markdown",
   "id": "e381c034",
   "metadata": {},
   "source": [
    "## Augmentation"
   ]
  },
  {
   "cell_type": "markdown",
   "id": "ce445d6e",
   "metadata": {},
   "source": [
    "## Save the file to directory"
   ]
  },
  {
   "cell_type": "code",
   "execution_count": 21,
   "id": "7a6f6453",
   "metadata": {},
   "outputs": [
    {
     "name": "stdout",
     "output_type": "stream",
     "text": [
      "Found 7 validated image filenames belonging to 2 classes.\n"
     ]
    }
   ],
   "source": [
    "i=0\n",
    "\n",
    "for batch in dataGen.flow_from_dataframe(dataframe=df,\n",
    "                                         directory='D:\\\\DATA Science\\\\DEEP LEARNING\\\\Augmentation\\\\Vechicles_mixed',\n",
    "                                         x_col='img_id',y_col='target' ,batch_size=22,\n",
    "                                         save_to_dir='D:\\\\DATA Science\\\\DEEP LEARNING\\\\Augmentation\\\\Vechicles_mixed_aug',\n",
    "                                        save_format='png'):\n",
    "    \n",
    "    i+=1\n",
    "    if i>50:\n",
    "        break"
   ]
  }
 ],
 "metadata": {
  "kernelspec": {
   "display_name": "Python 3 (ipykernel)",
   "language": "python",
   "name": "python3"
  },
  "language_info": {
   "codemirror_mode": {
    "name": "ipython",
    "version": 3
   },
   "file_extension": ".py",
   "mimetype": "text/x-python",
   "name": "python",
   "nbconvert_exporter": "python",
   "pygments_lexer": "ipython3",
   "version": "3.9.7"
  }
 },
 "nbformat": 4,
 "nbformat_minor": 5
}
